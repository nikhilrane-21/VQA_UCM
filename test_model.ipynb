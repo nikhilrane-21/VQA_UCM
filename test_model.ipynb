{
 "cells": [
  {
   "cell_type": "code",
   "execution_count": 7,
   "outputs": [],
   "source": [
    "from model import *\n",
    "from dataloader import *\n",
    "import torch"
   ],
   "metadata": {
    "collapsed": false
   }
  },
  {
   "cell_type": "code",
   "execution_count": 8,
   "outputs": [],
   "source": [
    "import dataloader\n",
    "\n",
    "ucm_vqa_train_dataloader, \\\n",
    "ucm_vqa_eval_dataloader, \\\n",
    "ucm_vqa_test_dataloader, \\\n",
    "ans_dict = construct_data_loader(batch_size=2)  # return the dataloader of {train, eval, test}"
   ],
   "metadata": {
    "collapsed": false
   }
  },
  {
   "cell_type": "code",
   "execution_count": 9,
   "outputs": [
    {
     "name": "stdout",
     "output_type": "stream",
     "text": [
      "{'harbor': 0, 'runway': 1, 'forest': 2, 'dense residential': 3, 'golf course': 4, 'buildings': 5, 'intersection': 6, 'tennis court': 7, 'freeway': 8, 'baseball diamond': 9, 'beach': 10, 'airplane': 11, 'overpass': 12, 'parking lot': 13, 'storage tanks': 14, 'sparse residential': 15, 'medium residential': 16, 'mobile home park': 17, 'river': 18, 'chaparral': 19, 'farmland': 20}\n",
      "21\n"
     ]
    }
   ],
   "source": [
    "print(ans_dict)\n",
    "print(len(ans_dict))\n",
    "device = \"cuda\""
   ],
   "metadata": {
    "collapsed": false
   }
  },
  {
   "cell_type": "code",
   "execution_count": 11,
   "outputs": [
    {
     "name": "stderr",
     "output_type": "stream",
     "text": [
      "/home/nikhil/Desktop/vqa_4_RS/venv/lib/python3.7/site-packages/torchvision/models/_utils.py:136: UserWarning: Using 'weights' as positional parameter(s) is deprecated since 0.13 and may be removed in the future. Please use keyword parameter(s) instead.\n",
      "  f\"Using {sequence_to_str(tuple(keyword_only_kwargs.keys()), separate_last='and ')} as positional \"\n",
      "Some weights of the model checkpoint at bert-base-uncased were not used when initializing BertModel: ['cls.predictions.transform.dense.bias', 'cls.seq_relationship.weight', 'cls.predictions.transform.LayerNorm.weight', 'cls.predictions.transform.LayerNorm.bias', 'cls.predictions.transform.dense.weight', 'cls.predictions.decoder.weight', 'cls.predictions.bias', 'cls.seq_relationship.bias']\n",
      "- This IS expected if you are initializing BertModel from the checkpoint of a model trained on another task or with another architecture (e.g. initializing a BertForSequenceClassification model from a BertForPreTraining model).\n",
      "- This IS NOT expected if you are initializing BertModel from the checkpoint of a model that you expect to be exactly identical (initializing a BertForSequenceClassification model from a BertForSequenceClassification model).\n"
     ]
    }
   ],
   "source": [
    "model = VqaModel(\n",
    "        embed_size=128, # same as the Bert(ptm)\n",
    "        num_labels=21,\n",
    "        # ans_vocab_size=len(ans_dict)-1\n",
    "    ).to(device)"
   ],
   "metadata": {
    "collapsed": false
   }
  },
  {
   "cell_type": "code",
   "execution_count": 13,
   "outputs": [],
   "source": [
    "for i_batch, sample_batched in enumerate(ucm_vqa_train_dataloader):\n",
    "    image = sample_batched['image'].to(device)\n",
    "    question = sample_batched['question'].to(device)\n",
    "    label = sample_batched['answer'].to(device)\n",
    "    output = model(image, question)\n",
    "    if i_batch % 3 == 0:\n",
    "        break"
   ],
   "metadata": {
    "collapsed": false
   }
  },
  {
   "cell_type": "code",
   "execution_count": null,
   "outputs": [],
   "source": [],
   "metadata": {
    "collapsed": false,
    "pycharm": {
     "is_executing": true
    }
   }
  },
  {
   "cell_type": "code",
   "execution_count": 12,
   "outputs": [],
   "source": [],
   "metadata": {
    "collapsed": false
   }
  }
 ],
 "metadata": {
  "kernelspec": {
   "display_name": "Python 3",
   "language": "python",
   "name": "python3"
  },
  "language_info": {
   "codemirror_mode": {
    "name": "ipython",
    "version": 2
   },
   "file_extension": ".py",
   "mimetype": "text/x-python",
   "name": "python",
   "nbconvert_exporter": "python",
   "pygments_lexer": "ipython2",
   "version": "2.7.6"
  }
 },
 "nbformat": 4,
 "nbformat_minor": 0
}
